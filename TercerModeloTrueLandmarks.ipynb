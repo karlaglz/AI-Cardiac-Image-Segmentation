{
  "cells": [
    {
      "cell_type": "code",
      "execution_count": null,
      "metadata": {
        "id": "AqrVRfIF2Cty"
      },
      "outputs": [],
      "source": [
        "#!cp -r /content/drive/MyDrive/all_frames/ /content/all_frames/"
      ]
    },
    {
      "cell_type": "code",
      "execution_count": null,
      "metadata": {
        "id": "BBf8coaQAo2i"
      },
      "outputs": [],
      "source": [
        "import cv2\n",
        "import os\n",
        "import io\n",
        "import pandas as pd\n",
        "import numpy as np\n",
        "import zipfile\n",
        "import tensorflow as tf"
      ]
    },
    {
      "cell_type": "code",
      "source": [
        "zip_file_path = '/content/all_frames-20231017T204430Z-001.zip'\n",
        "\n",
        "with zipfile.ZipFile(zip_file_path, 'r') as zip_file:\n",
        "    # Get a list of all the file names in the zip file\n",
        "    image_filenames = zip_file.namelist()\n",
        "\n",
        "    # Sort the filenames if needed\n",
        "    image_filenames.sort()\n",
        "\n",
        "    # Create an empty list to store the images\n",
        "    images = []\n",
        "\n",
        "    # Iterate through the image filenames in the zip file\n",
        "    for filename in image_filenames:\n",
        "        # Read the image from the zip file\n",
        "        with zip_file.open(filename) as image_file:\n",
        "            image_data = io.BytesIO(image_file.read())\n",
        "            image = cv2.imdecode(np.frombuffer(image_data.read(), np.uint8), cv2.IMREAD_COLOR)\n",
        "            images.append(image)\n"
      ],
      "metadata": {
        "id": "al7QEL87GSln"
      },
      "execution_count": null,
      "outputs": []
    },
    {
      "cell_type": "code",
      "execution_count": null,
      "metadata": {
        "id": "jnyai7AG3NWj"
      },
      "outputs": [],
      "source": [
        "import pickle\n",
        "\n",
        "# Load landmarks_list from its .pkl file\n",
        "with open('landmarks_list.pkl', 'rb') as file:\n",
        "    landmarks_list = pickle.load(file)\n",
        "\n",
        "# Load uncertainty_list from its .pkl file\n",
        "with open('uncertainty_list.pkl', 'rb') as file:\n",
        "    uncertainty_list = pickle.load(file)"
      ]
    },
    {
      "cell_type": "code",
      "execution_count": null,
      "metadata": {
        "id": "CkBSWObN3PJI"
      },
      "outputs": [],
      "source": [
        "from sklearn.preprocessing import MinMaxScaler\n",
        "\n",
        "X = np.array(images)\n",
        "y_coords = np.array(landmarks_list)\n",
        "y_uncertainties = np.sqrt(np.array(uncertainty_list))  # Taking square root\n",
        "\n",
        "# Reshape uncertainties to match the landmarks shape\n",
        "y_uncertainties_reshaped = y_uncertainties.reshape(-1, 2)\n",
        "\n",
        "# Scale the coordinates\n",
        "scaler_coords = MinMaxScaler()\n",
        "y_coords_scaled = scaler_coords.fit_transform(y_coords.reshape(-1, 2)).reshape(-1, 6, 2)\n",
        "\n",
        "# Do not scale uncertainties; just reshape them\n",
        "y_uncertainties_reshaped = y_uncertainties.reshape(-1, 6, 2)\n",
        "\n",
        "# Combine the scaled coordinates and uncertainties\n",
        "y_combined_scaled = np.hstack((y_coords_scaled, y_uncertainties_reshaped))\n",
        "y_reshaped_scaled = y_combined_scaled.reshape(-1, 24)\n"
      ]
    },
    {
      "cell_type": "code",
      "execution_count": null,
      "metadata": {
        "id": "FC1YYfBo4xw2"
      },
      "outputs": [],
      "source": [
        "mean = np.array([0.485, 0.456, 0.406])\n",
        "std = np.array([0.229, 0.224, 0.225])\n",
        "X = X.astype(np.float32)\n",
        "X -= mean\n",
        "X /= std"
      ]
    },
    {
      "cell_type": "code",
      "source": [
        "y_combined_list = []\n",
        "\n",
        "# Interlace coordinates and uncertainties for each sample\n",
        "for i in range(len(y_coords_scaled)):\n",
        "    interlaced_values = []\n",
        "    for j in range(6):  # 6 landmarks\n",
        "        interlaced_values.extend(y_coords_scaled[i][j])\n",
        "        interlaced_values.extend(y_uncertainties_reshaped[i][j])\n",
        "    y_combined_list.append(interlaced_values)\n",
        "\n",
        "y_reshaped_scaled = np.array(y_combined_list)\n"
      ],
      "metadata": {
        "id": "oDxSW61adt4X"
      },
      "execution_count": null,
      "outputs": []
    },
    {
      "cell_type": "code",
      "source": [
        "from google.colab import drive\n",
        "drive.mount('/content/drive')"
      ],
      "metadata": {
        "colab": {
          "base_uri": "https://localhost:8080/"
        },
        "id": "ND36ygBpxkqC",
        "outputId": "af0e4748-72c9-434b-d0ee-0ec0c7d435e3"
      },
      "execution_count": null,
      "outputs": [
        {
          "output_type": "stream",
          "name": "stdout",
          "text": [
            "Mounted at /content/drive\n"
          ]
        }
      ]
    },
    {
      "cell_type": "code",
      "execution_count": null,
      "metadata": {
        "colab": {
          "base_uri": "https://localhost:8080/"
        },
        "id": "MxDG407y3C75",
        "outputId": "5e15dda0-0c09-47f2-9d6b-6b12af64cfd0"
      },
      "outputs": [
        {
          "output_type": "execute_result",
          "data": {
            "text/plain": [
              "((17565, 112, 112, 3), (17565, 24))"
            ]
          },
          "metadata": {},
          "execution_count": 7
        }
      ],
      "source": [
        "X.shape, y_reshaped_scaled.shape"
      ]
    },
    {
      "cell_type": "code",
      "execution_count": null,
      "metadata": {
        "id": "kRzexkJE419l"
      },
      "outputs": [],
      "source": [
        "from sklearn.model_selection import train_test_split\n",
        "\n",
        "X_train, X_val, y_train, y_val = train_test_split(X, y_reshaped_scaled, test_size=0.2, random_state=42)"
      ]
    },
    {
      "cell_type": "code",
      "source": [
        "print(y_train[0])"
      ],
      "metadata": {
        "colab": {
          "base_uri": "https://localhost:8080/"
        },
        "id": "6LjGjxwyRTES",
        "outputId": "9d23f1ef-8107-45c2-c634-512d71a31ee2"
      },
      "execution_count": null,
      "outputs": [
        {
          "output_type": "stream",
          "name": "stdout",
          "text": [
            "[ 0.44036697  0.24369748  6.          6.          0.44954128  0.68067227\n",
            "  6.          6.          0.40366972  0.64705882  6.          6.\n",
            "  0.63302752  0.65546218  6.          6.          0.39449541  0.55462185\n",
            "  7.         13.          0.55963303  0.3697479   7.         13.        ]\n"
          ]
        }
      ]
    },
    {
      "cell_type": "code",
      "source": [
        "import matplotlib.pyplot as plt\n",
        "import matplotlib.patches as patches\n",
        "import random\n",
        "\n",
        "# Choose a random index\n",
        "index = random.randint(0, len(X_train) - 1)\n",
        "\n",
        "# Extract corresponding image and landmarks\n",
        "img = X_train[index]\n",
        "landmarks = y_train[index].reshape(6, 4)\n",
        "\n",
        "# Plotting\n",
        "fig, ax = plt.subplots(1)\n",
        "ax.imshow(img * std + mean)  # De-normalizing the image for display\n",
        "\n",
        "# Plot each landmark\n",
        "for i in range(6):\n",
        "    x, y, sigma_x, sigma_y = landmarks[i]\n",
        "    ax.plot(x*112, y*112, 'ro')\n",
        "    ellipse = patches.Ellipse((x*112, y*112), sigma_x*2, sigma_y*2, color='blue', fill=False)\n",
        "    ax.add_patch(ellipse)\n",
        "\n",
        "plt.show()"
      ],
      "metadata": {
        "id": "86VaI9Cv-UuT"
      },
      "execution_count": null,
      "outputs": []
    },
    {
      "cell_type": "code",
      "execution_count": null,
      "metadata": {
        "id": "x16aNl5J43RK"
      },
      "outputs": [],
      "source": [
        "!pip install --upgrade tensorflow"
      ]
    },
    {
      "cell_type": "markdown",
      "source": [
        "![Screen Shot 2023-10-20 at 17.40.28.png](data:image/png;base64,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)"
      ],
      "metadata": {
        "id": "J5Ag1BshP39_"
      }
    },
    {
      "cell_type": "markdown",
      "source": [
        "x punto real\n",
        "u es la media de prediccion (predicted mean)\n",
        "o es la desviacion (variancia en este caso)\n"
      ],
      "metadata": {
        "id": "oWb1PiCuQASy"
      }
    },
    {
      "cell_type": "code",
      "execution_count": null,
      "metadata": {
        "id": "z90Jn3Ic5CkF"
      },
      "outputs": [],
      "source": [
        "def modified_gaussian_likelihood(y_true, y_pred):\n",
        "    \"\"\"\n",
        "    y_true: Tensor of true values. Shape (batch_size, 24).\n",
        "    y_pred: Tensor of predicted values. Shape (batch_size, 24).\n",
        "    \"\"\"\n",
        "\n",
        "    # Reshape the tensors to (batch_size, 6, 4)\n",
        "    y_true = tf.reshape(y_true, (-1, 6, 4))\n",
        "    y_pred = tf.reshape(y_pred, (-1, 6, 4))\n",
        "\n",
        "    # Splitting the tensors into coordinates and uncertainties\n",
        "    true_coords = y_true[:, :, :2]\n",
        "    pred_coords = y_pred[:, :, :2]\n",
        "\n",
        "    # Ensure that the predicted uncertainties are positive using softplus\n",
        "    pred_uncertainties = tf.nn.softplus(y_pred[:, :, 2:])\n",
        "    true_uncertainties = y_true[:, :, 2:]\n",
        "\n",
        "    # Print intermediate values\n",
        "    #tf.print(\"True Coords: \", tf.reduce_mean(true_coords), \" Pred Coords: \", tf.reduce_mean(pred_coords))\n",
        "    #tf.print(\"True Uncertainties: \", tf.reduce_mean(true_uncertainties), \" Pred Uncertainties: \", tf.reduce_mean(pred_uncertainties))\n",
        "\n",
        "    # Mean Squared Error for coordinates\n",
        "    mse = tf.reduce_mean(tf.square(tf.cast(true_coords, tf.float32) - pred_coords), axis=-1)\n",
        "\n",
        "    # Print MSE\n",
        "    #tf.print(\"MSE: \", tf.reduce_mean(mse))\n",
        "\n",
        "    # Gaussian Likelihood for uncertainties\n",
        "    precision = 1 / tf.square(pred_uncertainties + 1e-6)  # Use square of standard deviations for precision\n",
        "    mse_expanded = tf.expand_dims(mse, -1)\n",
        "    log_likelihood = -0.5 * tf.reduce_sum(precision * mse_expanded + tf.math.log(tf.square(pred_uncertainties) + 1e-10), axis=-1)\n",
        "    alpha = 4.0  # Weight for MSE\n",
        "    beta = 0.1   # Weight for Log Likelihood\n",
        "    print(\"Shape of mse:\", mse.shape)\n",
        "    print(\"Shape of log_likelihood:\", log_likelihood.shape)\n",
        "\n",
        "    # Weighted Loss\n",
        "    loss = alpha * mse + beta * log_likelihood\n",
        "\n",
        "    return tf.reduce_mean(loss)\n",
        "    # Print log likelihood\n",
        "    #tf.print(\"Log Likelihood: \", tf.reduce_mean(log_likelihood))\n",
        "\n",
        "    #return tf.reduce_mean(log_likelihood)\n"
      ]
    },
    {
      "cell_type": "code",
      "source": [
        "# Simulate a prediction by adding a small random noise to a random batch from y_train\n",
        "random_indices = np.random.choice(y_train.shape[0], size=32, replace=False)  # select a batch of size 32\n",
        "y_true_sample = y_train[random_indices]\n",
        "y_pred_sample = y_true_sample + np.random.normal(0, 0.05, y_true_sample.shape)  # add small noise with reduced std deviation\n",
        "\n",
        "# Convert to tensors\n",
        "y_true_tensor = tf.convert_to_tensor(y_true_sample, dtype=tf.float32)\n",
        "y_pred_tensor = tf.convert_to_tensor(y_pred_sample, dtype=tf.float32)\n",
        "\n",
        "# Compute the loss\n",
        "loss_value = modified_gaussian_likelihood(y_true_tensor, y_pred_tensor)\n",
        "loss_value\n",
        "\n"
      ],
      "metadata": {
        "id": "qARz14ruy18j",
        "colab": {
          "base_uri": "https://localhost:8080/"
        },
        "outputId": "b1cce5a6-0985-434c-ca28-bb126ddf37d3"
      },
      "execution_count": null,
      "outputs": [
        {
          "output_type": "stream",
          "name": "stdout",
          "text": [
            "Shape of mse: (32, 6)\n",
            "Shape of log_likelihood: (32, 6)\n"
          ]
        },
        {
          "output_type": "execute_result",
          "data": {
            "text/plain": [
              "<tf.Tensor: shape=(), dtype=float32, numpy=-0.38660565>"
            ]
          },
          "metadata": {},
          "execution_count": 15
        }
      ]
    },
    {
      "cell_type": "code",
      "source": [
        "from tensorflow.keras import regularizers\n",
        "from tensorflow.keras.layers import BatchNormalization\n",
        "from tensorflow.keras.applications import ResNet50\n",
        "from tensorflow.keras.models import Model\n",
        "from tensorflow.keras.layers import Dense, GlobalAveragePooling2D, Dropout\n",
        "\n",
        "def create_landmark_model(input_shape):\n",
        "    # Load ResNet50 with ImageNet weights, excluding the top classification layer\n",
        "    base_model = ResNet50(weights='imagenet', include_top=False, input_shape=input_shape)\n",
        "\n",
        "    # Freeze the base model layers for feature extraction\n",
        "    for layer in base_model.layers:\n",
        "        layer.trainable = False\n",
        "\n",
        "    # Add custom layers on top of ResNet50\n",
        "    x = base_model.output\n",
        "    x = GlobalAveragePooling2D()(x)\n",
        "    x = Dense(512, activation='relu', kernel_initializer='he_normal')(x)\n",
        "    x = BatchNormalization()(x)\n",
        "    x = Dropout(0.2)(x)\n",
        "    x = Dense(256, activation='relu', kernel_initializer='he_normal')(x)\n",
        "    x = BatchNormalization()(x)\n",
        "    x = Dropout(0.2)(x)\n",
        "\n",
        "    biases = []\n",
        "    for i in range(4):\n",
        "        biases.extend([0.5, 0.5, 6, 6])\n",
        "    biases.extend([0.5, 0.5, 7, 13, 0.5, 0.5, 7, 13])\n",
        "\n",
        "    predictions = Dense(24, kernel_initializer='he_normal', bias_initializer=tf.keras.initializers.Constant(biases))(x)\n",
        "\n",
        "    # Create the full model\n",
        "    model = Model(inputs=base_model.input, outputs=predictions)\n",
        "\n",
        "    optimizer = tf.keras.optimizers.Adam(learning_rate=0.00001)\n",
        "    model.compile(optimizer=optimizer, loss=modified_gaussian_likelihood)\n",
        "\n",
        "    return model\n"
      ],
      "metadata": {
        "id": "FQnVNTvseyQn"
      },
      "execution_count": null,
      "outputs": []
    },
    {
      "cell_type": "code",
      "source": [
        "# Create the model\n",
        "model = create_landmark_model((112, 112, 3))\n",
        "#model.summary()"
      ],
      "metadata": {
        "id": "o5wXv141y2qh",
        "colab": {
          "base_uri": "https://localhost:8080/"
        },
        "outputId": "43e0ab92-c005-40b4-b2d2-0674ec85222a"
      },
      "execution_count": null,
      "outputs": [
        {
          "output_type": "stream",
          "name": "stdout",
          "text": [
            "Downloading data from https://storage.googleapis.com/tensorflow/keras-applications/resnet/resnet50_weights_tf_dim_ordering_tf_kernels_notop.h5\n",
            "94765736/94765736 [==============================] - 5s 0us/step\n"
          ]
        }
      ]
    },
    {
      "cell_type": "code",
      "execution_count": null,
      "metadata": {
        "id": "mNwS9sRb6qG4"
      },
      "outputs": [],
      "source": [
        "history = model.fit(\n",
        "    X_train, y_train,\n",
        "    epochs=5,\n",
        "    batch_size=32,\n",
        "    validation_data=(X_val, y_val)\n",
        ")"
      ]
    },
    {
      "cell_type": "code",
      "execution_count": null,
      "metadata": {
        "id": "R2Pwzorb6sl_",
        "colab": {
          "base_uri": "https://localhost:8080/",
          "height": 499
        },
        "outputId": "6de797be-c976-4ca8-f960-9a591bd23b1e"
      },
      "outputs": [
        {
          "output_type": "display_data",
          "data": {
            "text/plain": [
              "<Figure size 1200x600 with 1 Axes>"
            ],
            "image/png": "[encoded data removed]"
          },
          "metadata": {}
        }
      ],
      "source": [
        "import matplotlib.pyplot as plt\n",
        "\n",
        "# Plot training & validation loss values\n",
        "plt.figure(figsize=(12, 6))\n",
        "plt.plot(history.history['loss'])\n",
        "plt.plot(history.history['val_loss'])\n",
        "plt.title('Model loss')\n",
        "plt.ylabel('Loss')\n",
        "plt.xlabel('Epoch')\n",
        "plt.legend(['Train', 'Validation'], loc='upper left')\n",
        "plt.show()"
      ]
    },
    {
      "cell_type": "code",
      "source": [
        "import matplotlib.pyplot as plt\n",
        "import numpy as np\n",
        "from matplotlib.patches import Ellipse\n",
        "\n",
        "# Randomly select an image from the validation set\n",
        "index = np.random.randint(0, len(X_val))\n",
        "sample_image = X_val[index]\n",
        "sample_true_coords = y_val[index].reshape(6, 4)[:,:2]  # Only coordinates\n",
        "sample_true_uncertainties = y_val[index].reshape(6, 4)[:,2:]  # Only uncertainties\n",
        "\n",
        "# Reshape the image for model prediction\n",
        "input_image = np.expand_dims(sample_image, axis=0)\n",
        "\n",
        "# Get model's predictions for this image\n",
        "sample_pred = model.predict(input_image).reshape(6, 4)\n",
        "sample_pred_coords = sample_pred[:,:2]\n",
        "sample_pred_uncertainties = sample_pred[:,2:]\n",
        "\n",
        "# Plot the image\n",
        "plt.imshow(sample_image)\n",
        "plt.axis('off')\n",
        "\n",
        "# Plot true landmarks\n",
        "for (x, y), (u, v) in zip(sample_true_coords, sample_true_uncertainties):\n",
        "    plt.scatter([x*112], [y*112], color='blue', s=10)  # True coords\n",
        "    ellipse = Ellipse((x*112, y*112), u, v, color='blue', fill=False)  # True uncertainties as ellipse\n",
        "    plt.gca().add_patch(ellipse)\n",
        "\n",
        "# Plot predicted landmarks\n",
        "for (x, y), (u, v) in zip(sample_pred_coords, sample_pred_uncertainties):\n",
        "    plt.scatter([x*112], [y*112], color='red', s=10)  # Predicted coords\n",
        "    ellipse = Ellipse((x*112, y*112), u, v, color='red', fill=False)  # Predicted uncertainties as ellipse\n",
        "    plt.gca().add_patch(ellipse)\n",
        "\n",
        "plt.show()\n"
      ],
      "metadata": {
        "id": "F9rRtdKdclSk"
      },
      "execution_count": null,
      "outputs": []
    }
  ],
  "metadata": {
    "colab": {
      "provenance": []
    },
    "kernelspec": {
      "display_name": "Python 3",
      "name": "python3"
    },
    "language_info": {
      "name": "python"
    }
  },
  "nbformat": 4,
  "nbformat_minor": 0
}